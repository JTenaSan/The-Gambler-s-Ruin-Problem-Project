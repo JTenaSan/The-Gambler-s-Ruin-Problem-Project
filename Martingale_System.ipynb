{
  "nbformat": 4,
  "nbformat_minor": 0,
  "metadata": {
    "colab": {
      "provenance": [],
      "authorship_tag": "ABX9TyNDq/twu7BK92JGILNdMCcV",
      "include_colab_link": true
    },
    "kernelspec": {
      "name": "python3",
      "display_name": "Python 3"
    },
    "language_info": {
      "name": "python"
    }
  },
  "cells": [
    {
      "cell_type": "markdown",
      "metadata": {
        "id": "view-in-github",
        "colab_type": "text"
      },
      "source": [
        "<a href=\"https://colab.research.google.com/github/JTenaSan/The-Gambler-s-Ruin-Problem-Project/blob/main/Martingale_System.ipynb\" target=\"_parent\"><img src=\"https://colab.research.google.com/assets/colab-badge.svg\" alt=\"Open In Colab\"/></a>"
      ]
    },
    {
      "cell_type": "markdown",
      "source": [
        "# Martingale System Simulation"
      ],
      "metadata": {
        "id": "qV_x-0F95knq"
      }
    },
    {
      "cell_type": "code",
      "source": [
        "import numpy as np\n",
        "import pandas as pd"
      ],
      "metadata": {
        "id": "8y3m9CfVz6U4"
      },
      "execution_count": null,
      "outputs": []
    },
    {
      "cell_type": "code",
      "source": [
        "def martingale_simulation(int_money, goal, base_bet, p, trials):\n",
        "    ruin_count = 0\n",
        "    success_count = 0\n",
        "    times_reset = 0\n",
        "    trial_results = []\n",
        "\n",
        "    for _ in range(trials):\n",
        "        money = int_money\n",
        "        bet = base_bet\n",
        "        resets = 0\n",
        "        round_count = 0\n",
        "        first_reset = None\n",
        "\n",
        "        while 0 < money < goal:\n",
        "            round_count += 1\n",
        "\n",
        "            if money < bet:\n",
        "                result = 'ruin'\n",
        "                ruin_count += 1\n",
        "                break\n",
        "\n",
        "            if np.random.rand() < p:\n",
        "                money += bet\n",
        "                bet = base_bet\n",
        "                resets += 1\n",
        "                if first_reset is None:\n",
        "                    first_reset = round_count\n",
        "            else:\n",
        "                money -= bet\n",
        "                bet *= 2\n",
        "\n",
        "            if money >= goal:\n",
        "                result = 'success'\n",
        "                success_count += 1\n",
        "                break\n",
        "        else:\n",
        "            # If the while-loop exits normally, which shouldn't happen if your logic is airtight\n",
        "            result = 'unknown'\n",
        "\n",
        "        # Append no matter what\n",
        "        trial_results.append({\n",
        "            'result': result,\n",
        "            'rounds': round_count,\n",
        "            'total_resets': resets,\n",
        "            'first_reset': first_reset\n",
        "        })\n",
        "\n",
        "\n",
        "    prob_ruin = ruin_count / trials\n",
        "    print(f\"Success Count: {success_count}\")\n",
        "    print(f\"Ruin Count: {ruin_count}\")\n",
        "    print(f\"Probability of Ruin: {prob_ruin:.4f}\")\n",
        "\n",
        "    df = pd.DataFrame(trial_results)\n",
        "    df.to_csv('trial_results.csv', index=False)\n",
        "    print(\"\\nExported to 'trials_results.csv'\")\n",
        "    return prob_ruin, trial_results\n"
      ],
      "metadata": {
        "id": "8w2wTNmUzhX0"
      },
      "execution_count": null,
      "outputs": []
    },
    {
      "cell_type": "markdown",
      "source": [
        "# Only Change P Value\n",
        "\n",
        "Keep the rest of the variables the same"
      ],
      "metadata": {
        "id": "_11Zg_I956ri"
      }
    },
    {
      "cell_type": "code",
      "source": [
        "money = 100\n",
        "bet = 1\n",
        "goal = 200\n",
        "simulations = 10"
      ],
      "metadata": {
        "id": "WWtMrRn-zzqR"
      },
      "execution_count": null,
      "outputs": []
    },
    {
      "cell_type": "markdown",
      "source": [
        "# Re-running the code will yield different results\n",
        "\n",
        "Must rename files since cant figure out how to change them within the code"
      ],
      "metadata": {
        "id": "VExpNIXR6EYH"
      }
    },
    {
      "cell_type": "code",
      "source": [
        "prob_lose, results = martingale_simulation(money, goal, bet, 0.5, simulations)"
      ],
      "metadata": {
        "colab": {
          "base_uri": "https://localhost:8080/"
        },
        "id": "-znUF9jKz1x8",
        "outputId": "b2a864d4-8e5a-49c6-a705-579e14cbbd49"
      },
      "execution_count": null,
      "outputs": [
        {
          "output_type": "stream",
          "name": "stdout",
          "text": [
            "Success Count: 3\n",
            "Ruin Count: 7\n",
            "Probability of Ruin: 0.7000\n",
            "\n",
            "Exported to 'trials_results.csv'\n"
          ]
        }
      ]
    },
    {
      "cell_type": "code",
      "source": [
        "prob_lose, results = martingale_simulation(money, goal, bet, 0.45, simulations)"
      ],
      "metadata": {
        "colab": {
          "base_uri": "https://localhost:8080/"
        },
        "id": "1fN7GP344oYk",
        "outputId": "ceb0e810-e9cd-4648-a015-4edad9750800"
      },
      "execution_count": null,
      "outputs": [
        {
          "output_type": "stream",
          "name": "stdout",
          "text": [
            "Success Count: 0\n",
            "Ruin Count: 10\n",
            "Probability of Ruin: 1.0000\n",
            "\n",
            "Exported to 'trials_results.csv'\n"
          ]
        }
      ]
    },
    {
      "cell_type": "code",
      "source": [
        "prob_lose, results = martingale_simulation(money, goal, bet, 0.55, simulations)"
      ],
      "metadata": {
        "colab": {
          "base_uri": "https://localhost:8080/"
        },
        "id": "a7It9btW4107",
        "outputId": "192d3152-9c3a-4b60-b37c-61ddbf9c9077"
      },
      "execution_count": null,
      "outputs": [
        {
          "output_type": "stream",
          "name": "stdout",
          "text": [
            "Success Count: 6\n",
            "Ruin Count: 4\n",
            "Probability of Ruin: 0.4000\n",
            "\n",
            "Exported to 'trials_results.csv'\n"
          ]
        }
      ]
    }
  ]
}