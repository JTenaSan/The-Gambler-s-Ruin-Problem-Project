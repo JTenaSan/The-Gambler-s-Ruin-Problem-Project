{
  "nbformat": 4,
  "nbformat_minor": 0,
  "metadata": {
    "colab": {
      "provenance": [],
      "authorship_tag": "ABX9TyNKvUeh6d++vEIOgt6k8SOp",
      "include_colab_link": true
    },
    "kernelspec": {
      "name": "python3",
      "display_name": "Python 3"
    },
    "language_info": {
      "name": "python"
    }
  },
  "cells": [
    {
      "cell_type": "markdown",
      "metadata": {
        "id": "view-in-github",
        "colab_type": "text"
      },
      "source": [
        "<a href=\"https://colab.research.google.com/github/JTenaSan/The-Gambler-s-Ruin-Problem-Project/blob/main/GRP_MCS.ipynb\" target=\"_parent\"><img src=\"https://colab.research.google.com/assets/colab-badge.svg\" alt=\"Open In Colab\"/></a>"
      ]
    },
    {
      "cell_type": "markdown",
      "source": [
        "# Monte Carlo Simulations of The Gambler's Ruin Problem\n",
        "\n"
      ],
      "metadata": {
        "id": "LVCzNnNagDw2"
      }
    },
    {
      "cell_type": "code",
      "source": [
        "import numpy as np\n",
        "import pandas as pd"
      ],
      "metadata": {
        "id": "rIANzdWZgA7l"
      },
      "execution_count": null,
      "outputs": []
    },
    {
      "cell_type": "code",
      "source": [
        "def gambler_ruin(int_money, goal, bet_size, p, trials):\n",
        "    ruin_count = 0\n",
        "    success_count = 0\n",
        "    all_trials = []\n",
        "\n",
        "    for i in range(trials):\n",
        "        money = int_money\n",
        "        trial_results = [money]  # Track money for each step\n",
        "\n",
        "        while 0 < money < goal:\n",
        "            if np.random.random() < p:\n",
        "                money += bet_size  # Win\n",
        "            else:\n",
        "                money -= bet_size  # Lose\n",
        "            trial_results.append(money)\n",
        "\n",
        "        all_trials.append(trial_results)\n",
        "\n",
        "        if money == goal:\n",
        "            success_count += 1\n",
        "        else:\n",
        "            ruin_count += 1\n",
        "\n",
        "    success_prob = success_count / trials\n",
        "    ruin_prob = ruin_count / trials\n",
        "\n",
        "    # Ensure all trials have the same length by padding with spaces\n",
        "    max_len = max(len(trial) for trial in all_trials)\n",
        "    for trial in all_trials:\n",
        "        trial.extend([\" \"] * (max_len - len(trial)))\n",
        "\n",
        "    # Export to CSV\n",
        "    df = pd.DataFrame(all_trials).T\n",
        "    df.columns = [f'Trial_{i + 1}' for i in range(trials)]\n",
        "\n",
        "    df.to_csv('grp.csv', index=False)  # Export to CSV\n",
        "\n",
        "    print(\"\\nData exported to 'grp.csv'\")\n",
        "\n",
        "    return success_prob, ruin_prob, success_count, ruin_count"
      ],
      "metadata": {
        "id": "0HYYFTz4F50k"
      },
      "execution_count": null,
      "outputs": []
    },
    {
      "cell_type": "markdown",
      "source": [
        "# Bet_size, Trials, Goal\n",
        "\n",
        "They will always be the same across all changes in simulations and will be\n",
        "placed as constant variables"
      ],
      "metadata": {
        "id": "wvE-ZhDxhIrS"
      }
    },
    {
      "cell_type": "code",
      "source": [
        "trials = 100\n",
        "bet_size = 1\n",
        "goal = 10"
      ],
      "metadata": {
        "id": "eheXOWMLhFqU"
      },
      "execution_count": null,
      "outputs": []
    },
    {
      "cell_type": "code",
      "source": [
        "# Run simulation for i = 5, p = .5\n",
        "success_probability, ruin_probability, total_success, total_ruin = gambler_ruin(5, goal, bet_size, 0.5, trials)\n",
        "print(f\"\\nRuin Probability: {ruin_probability:.4f}, Success Probability: {success_probability:.4f}\")\n",
        "print(f\"Total Successes: {total_success}, Total Ruins: {total_ruin}\")"
      ],
      "metadata": {
        "colab": {
          "base_uri": "https://localhost:8080/"
        },
        "id": "9wg5-9wQX9n8",
        "outputId": "8bad6adf-80ba-470a-ece3-6b916f5c3675"
      },
      "execution_count": null,
      "outputs": [
        {
          "output_type": "stream",
          "name": "stdout",
          "text": [
            "\n",
            "Data exported to 'grp.csv'\n",
            "\n",
            "Ruin Probability: 0.4100, Success Probability: 0.5900\n",
            "Total Successes: 59, Total Ruins: 41\n"
          ]
        }
      ]
    },
    {
      "cell_type": "markdown",
      "source": [
        "# Rename Each CSV File for Each Combination Should Equal 15 Files\n",
        "\n",
        "Since I couldnt figure out a way to rename each file within the code\n",
        "\n",
        "Also since the print statements are outside the code block the actual probabilities are to be screenshoted in case we run the block again since it will yield different results with a new file exported"
      ],
      "metadata": {
        "id": "4Gox4npchoEn"
      }
    },
    {
      "cell_type": "markdown",
      "source": [
        "# For p = .5"
      ],
      "metadata": {
        "id": "gMzIg8GXpwQ2"
      }
    },
    {
      "cell_type": "code",
      "source": [
        "# Run simulation for i = 3, p = .5\n",
        "success_probability, ruin_probability, total_success, total_ruin = gambler_ruin(3, goal, bet_size, 0.5, trials)\n",
        "print(f\"\\nRuin Probability: {ruin_probability:.4f}, Success Probability: {success_probability:.4f}\")\n",
        "print(f\"Total Successes: {total_success}, Total Ruins: {total_ruin}\")"
      ],
      "metadata": {
        "colab": {
          "base_uri": "https://localhost:8080/"
        },
        "id": "_1f_P5uNhuEb",
        "outputId": "9eece253-6843-43d8-a138-2a07f5484e17"
      },
      "execution_count": null,
      "outputs": [
        {
          "output_type": "stream",
          "name": "stdout",
          "text": [
            "\n",
            "Data exported to 'grp.csv'\n",
            "\n",
            "Ruin Probability: 0.7100, Success Probability: 0.2900\n",
            "Total Successes: 29, Total Ruins: 71\n"
          ]
        }
      ]
    },
    {
      "cell_type": "code",
      "source": [
        "# Run simulation for i = 7, p = .5\n",
        "success_probability, ruin_probability, total_success, total_ruin = gambler_ruin(7, goal, bet_size, 0.5, trials)\n",
        "print(f\"\\nRuin Probability: {ruin_probability:.4f}, Success Probability: {success_probability:.4f}\")\n",
        "print(f\"Total Successes: {total_success}, Total Ruins: {total_ruin}\")"
      ],
      "metadata": {
        "colab": {
          "base_uri": "https://localhost:8080/"
        },
        "id": "eGLD8thOnHqD",
        "outputId": "f1ee0bbb-ebcf-4b1a-a4e6-3482d8e6cc71"
      },
      "execution_count": null,
      "outputs": [
        {
          "output_type": "stream",
          "name": "stdout",
          "text": [
            "\n",
            "Data exported to 'grp.csv'\n",
            "\n",
            "Ruin Probability: 0.2900, Success Probability: 0.7100\n",
            "Total Successes: 71, Total Ruins: 29\n"
          ]
        }
      ]
    },
    {
      "cell_type": "markdown",
      "source": [
        "# For p = .45"
      ],
      "metadata": {
        "id": "7aYzkA7up0um"
      }
    },
    {
      "cell_type": "code",
      "source": [
        "# Run simulation for i = 5, p = .45\n",
        "success_probability, ruin_probability, total_success, total_ruin = gambler_ruin(5, goal, bet_size, 0.45, trials)\n",
        "print(f\"\\nRuin Probability: {ruin_probability:.4f}, Success Probability: {success_probability:.4f}\")\n",
        "print(f\"Total Successes: {total_success}, Total Ruins: {total_ruin}\")"
      ],
      "metadata": {
        "colab": {
          "base_uri": "https://localhost:8080/"
        },
        "id": "bU5Bg_NPnILm",
        "outputId": "f885473f-f542-4cb3-8c92-c4648fdc953a"
      },
      "execution_count": null,
      "outputs": [
        {
          "output_type": "stream",
          "name": "stdout",
          "text": [
            "\n",
            "Data exported to 'grp.csv'\n",
            "\n",
            "Ruin Probability: 0.7300, Success Probability: 0.2700\n",
            "Total Successes: 27, Total Ruins: 73\n"
          ]
        }
      ]
    },
    {
      "cell_type": "code",
      "source": [
        "# Run simulation for i = 3, p = .45\n",
        "success_probability, ruin_probability, total_success, total_ruin = gambler_ruin(3, goal, bet_size, 0.45, trials)\n",
        "print(f\"\\nRuin Probability: {ruin_probability:.4f}, Success Probability: {success_probability:.4f}\")\n",
        "print(f\"Total Successes: {total_success}, Total Ruins: {total_ruin}\")"
      ],
      "metadata": {
        "colab": {
          "base_uri": "https://localhost:8080/"
        },
        "id": "dDYpkZ58nIiF",
        "outputId": "0567058c-2ca0-4295-dfcc-6d340f1639c3"
      },
      "execution_count": null,
      "outputs": [
        {
          "output_type": "stream",
          "name": "stdout",
          "text": [
            "\n",
            "Data exported to 'grp.csv'\n",
            "\n",
            "Ruin Probability: 0.8300, Success Probability: 0.1700\n",
            "Total Successes: 17, Total Ruins: 83\n"
          ]
        }
      ]
    },
    {
      "cell_type": "code",
      "source": [
        "# Run simulation for i = 7, p = .45\n",
        "success_probability, ruin_probability, total_success, total_ruin = gambler_ruin(7, goal, bet_size, 0.45, trials)\n",
        "print(f\"\\nRuin Probability: {ruin_probability:.4f}, Success Probability: {success_probability:.4f}\")\n",
        "print(f\"Total Successes: {total_success}, Total Ruins: {total_ruin}\")"
      ],
      "metadata": {
        "colab": {
          "base_uri": "https://localhost:8080/"
        },
        "id": "uhUaWB2rnI5G",
        "outputId": "0f697cbd-4d78-45fb-f94d-673399b3aef2"
      },
      "execution_count": null,
      "outputs": [
        {
          "output_type": "stream",
          "name": "stdout",
          "text": [
            "\n",
            "Data exported to 'grp.csv'\n",
            "\n",
            "Ruin Probability: 0.5600, Success Probability: 0.4400\n",
            "Total Successes: 44, Total Ruins: 56\n"
          ]
        }
      ]
    },
    {
      "cell_type": "markdown",
      "source": [
        "# For p = .40"
      ],
      "metadata": {
        "id": "lsu2UFAbp5HN"
      }
    },
    {
      "cell_type": "code",
      "source": [
        "# Run simulation for i = 5, p = .40\n",
        "success_probability, ruin_probability, total_success, total_ruin = gambler_ruin(5, goal, bet_size, 0.40, trials)\n",
        "print(f\"\\nRuin Probability: {ruin_probability:.4f}, Success Probability: {success_probability:.4f}\")\n",
        "print(f\"Total Successes: {total_success}, Total Ruins: {total_ruin}\")"
      ],
      "metadata": {
        "colab": {
          "base_uri": "https://localhost:8080/"
        },
        "id": "DKkF-US_nJL-",
        "outputId": "4f3183c8-1ac4-42ce-ea40-e64e1cf2c947"
      },
      "execution_count": null,
      "outputs": [
        {
          "output_type": "stream",
          "name": "stdout",
          "text": [
            "\n",
            "Data exported to 'grp.csv'\n",
            "\n",
            "Ruin Probability: 0.8700, Success Probability: 0.1300\n",
            "Total Successes: 13, Total Ruins: 87\n"
          ]
        }
      ]
    },
    {
      "cell_type": "code",
      "source": [
        "# Run simulation for i = 3, p = .40\n",
        "success_probability, ruin_probability, total_success, total_ruin = gambler_ruin(3, goal, bet_size, 0.40, trials)\n",
        "print(f\"\\nRuin Probability: {ruin_probability:.4f}, Success Probability: {success_probability:.4f}\")\n",
        "print(f\"Total Successes: {total_success}, Total Ruins: {total_ruin}\")"
      ],
      "metadata": {
        "colab": {
          "base_uri": "https://localhost:8080/"
        },
        "id": "z3GZGTL7nJhJ",
        "outputId": "22a25ac6-560a-4e2c-ee46-6679ccd0cb1d"
      },
      "execution_count": null,
      "outputs": [
        {
          "output_type": "stream",
          "name": "stdout",
          "text": [
            "\n",
            "Data exported to 'grp.csv'\n",
            "\n",
            "Ruin Probability: 0.9500, Success Probability: 0.0500\n",
            "Total Successes: 5, Total Ruins: 95\n"
          ]
        }
      ]
    },
    {
      "cell_type": "code",
      "source": [
        "# Run simulation for i = 7, p = .40\n",
        "success_probability, ruin_probability, total_success, total_ruin = gambler_ruin(7, goal, bet_size, 0.40, trials)\n",
        "print(f\"\\nRuin Probability: {ruin_probability:.4f}, Success Probability: {success_probability:.4f}\")\n",
        "print(f\"Total Successes: {total_success}, Total Ruins: {total_ruin}\")"
      ],
      "metadata": {
        "colab": {
          "base_uri": "https://localhost:8080/"
        },
        "id": "r3VL6SJonJ5k",
        "outputId": "57274130-1c70-4b62-956e-745f5fb79ee6"
      },
      "execution_count": null,
      "outputs": [
        {
          "output_type": "stream",
          "name": "stdout",
          "text": [
            "\n",
            "Data exported to 'grp.csv'\n",
            "\n",
            "Ruin Probability: 0.7600, Success Probability: 0.2400\n",
            "Total Successes: 24, Total Ruins: 76\n"
          ]
        }
      ]
    },
    {
      "cell_type": "markdown",
      "source": [
        "# For p = .55"
      ],
      "metadata": {
        "id": "tec-mkOnp9R9"
      }
    },
    {
      "cell_type": "code",
      "source": [
        "# Run simulation for i = 5, p = .55\n",
        "success_probability, ruin_probability, total_success, total_ruin = gambler_ruin(5, goal, bet_size, 0.55, trials)\n",
        "print(f\"\\nRuin Probability: {ruin_probability:.4f}, Success Probability: {success_probability:.4f}\")\n",
        "print(f\"Total Successes: {total_success}, Total Ruins: {total_ruin}\")"
      ],
      "metadata": {
        "colab": {
          "base_uri": "https://localhost:8080/"
        },
        "id": "4PuQqaBJpnmo",
        "outputId": "12e4e81d-d4db-4e6b-a7ae-0749632377e1"
      },
      "execution_count": null,
      "outputs": [
        {
          "output_type": "stream",
          "name": "stdout",
          "text": [
            "\n",
            "Data exported to 'grp.csv'\n",
            "\n",
            "Ruin Probability: 0.2700, Success Probability: 0.7300\n",
            "Total Successes: 73, Total Ruins: 27\n"
          ]
        }
      ]
    },
    {
      "cell_type": "code",
      "source": [
        "# Run simulation for i = 3, p = .55\n",
        "success_probability, ruin_probability, total_success, total_ruin = gambler_ruin(3, goal, bet_size, 0.55, trials)\n",
        "print(f\"\\nRuin Probability: {ruin_probability:.4f}, Success Probability: {success_probability:.4f}\")\n",
        "print(f\"Total Successes: {total_success}, Total Ruins: {total_ruin}\")"
      ],
      "metadata": {
        "colab": {
          "base_uri": "https://localhost:8080/"
        },
        "id": "KinT7melpoAE",
        "outputId": "94cff871-f8c3-4099-d073-a73d8723e4fa"
      },
      "execution_count": null,
      "outputs": [
        {
          "output_type": "stream",
          "name": "stdout",
          "text": [
            "\n",
            "Data exported to 'grp.csv'\n",
            "\n",
            "Ruin Probability: 0.4700, Success Probability: 0.5300\n",
            "Total Successes: 53, Total Ruins: 47\n"
          ]
        }
      ]
    },
    {
      "cell_type": "code",
      "source": [
        "# Run simulation for i = 7, p = .55\n",
        "success_probability, ruin_probability, total_success, total_ruin = gambler_ruin(7, goal, bet_size, 0.55, trials)\n",
        "print(f\"\\nRuin Probability: {ruin_probability:.4f}, Success Probability: {success_probability:.4f}\")\n",
        "print(f\"Total Successes: {total_success}, Total Ruins: {total_ruin}\")"
      ],
      "metadata": {
        "colab": {
          "base_uri": "https://localhost:8080/"
        },
        "id": "lX5jUk08poUa",
        "outputId": "3ce5cebd-1dcf-409c-9785-72228aeccadb"
      },
      "execution_count": null,
      "outputs": [
        {
          "output_type": "stream",
          "name": "stdout",
          "text": [
            "\n",
            "Data exported to 'grp.csv'\n",
            "\n",
            "Ruin Probability: 0.1600, Success Probability: 0.8400\n",
            "Total Successes: 84, Total Ruins: 16\n"
          ]
        }
      ]
    },
    {
      "cell_type": "markdown",
      "source": [
        "# For p = .60"
      ],
      "metadata": {
        "id": "VPo0Ghf_qMcJ"
      }
    },
    {
      "cell_type": "code",
      "source": [
        "# Run simulation for i = 5, p = .6\n",
        "success_probability, ruin_probability, total_success, total_ruin = gambler_ruin(5, goal, bet_size, 0.6, trials)\n",
        "print(f\"\\nRuin Probability: {ruin_probability:.4f}, Success Probability: {success_probability:.4f}\")\n",
        "print(f\"Total Successes: {total_success}, Total Ruins: {total_ruin}\")"
      ],
      "metadata": {
        "colab": {
          "base_uri": "https://localhost:8080/"
        },
        "id": "MPMXAByfpoo4",
        "outputId": "f7352783-32be-40a5-e08f-a6cd695f451d"
      },
      "execution_count": null,
      "outputs": [
        {
          "output_type": "stream",
          "name": "stdout",
          "text": [
            "\n",
            "Data exported to 'grp.csv'\n",
            "\n",
            "Ruin Probability: 0.1300, Success Probability: 0.8700\n",
            "Total Successes: 87, Total Ruins: 13\n"
          ]
        }
      ]
    },
    {
      "cell_type": "code",
      "source": [
        "# Run simulation for i = 3, p = .6\n",
        "success_probability, ruin_probability, total_success, total_ruin = gambler_ruin(3, goal, bet_size, 0.6, trials)\n",
        "print(f\"\\nRuin Probability: {ruin_probability:.4f}, Success Probability: {success_probability:.4f}\")\n",
        "print(f\"Total Successes: {total_success}, Total Ruins: {total_ruin}\")"
      ],
      "metadata": {
        "colab": {
          "base_uri": "https://localhost:8080/"
        },
        "id": "maA8WNZ7ppC8",
        "outputId": "3e3b8e6e-8a3e-43dc-bc13-d0b98a3c40ba"
      },
      "execution_count": null,
      "outputs": [
        {
          "output_type": "stream",
          "name": "stdout",
          "text": [
            "\n",
            "Data exported to 'grp.csv'\n",
            "\n",
            "Ruin Probability: 0.2800, Success Probability: 0.7200\n",
            "Total Successes: 72, Total Ruins: 28\n"
          ]
        }
      ]
    },
    {
      "cell_type": "code",
      "source": [
        "# Run simulation for i = 7, p = .6\n",
        "success_probability, ruin_probability, total_success, total_ruin = gambler_ruin(7, goal, bet_size, 0.6, trials)\n",
        "print(f\"\\nRuin Probability: {ruin_probability:.4f}, Success Probability: {success_probability:.4f}\")\n",
        "print(f\"Total Successes: {total_success}, Total Ruins: {total_ruin}\")"
      ],
      "metadata": {
        "colab": {
          "base_uri": "https://localhost:8080/"
        },
        "id": "7mtTdZogppVr",
        "outputId": "3a7dc9a8-3efd-4636-d256-532e1e8bc36f"
      },
      "execution_count": null,
      "outputs": [
        {
          "output_type": "stream",
          "name": "stdout",
          "text": [
            "\n",
            "Data exported to 'grp.csv'\n",
            "\n",
            "Ruin Probability: 0.0700, Success Probability: 0.9300\n",
            "Total Successes: 93, Total Ruins: 7\n"
          ]
        }
      ]
    }
  ]
}