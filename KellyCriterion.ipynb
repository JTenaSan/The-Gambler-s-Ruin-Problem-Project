{
  "nbformat": 4,
  "nbformat_minor": 0,
  "metadata": {
    "colab": {
      "provenance": [],
      "authorship_tag": "ABX9TyPxqN6651vcqTyY2qyyPXa5",
      "include_colab_link": true
    },
    "kernelspec": {
      "name": "python3",
      "display_name": "Python 3"
    },
    "language_info": {
      "name": "python"
    }
  },
  "cells": [
    {
      "cell_type": "markdown",
      "metadata": {
        "id": "view-in-github",
        "colab_type": "text"
      },
      "source": [
        "<a href=\"https://colab.research.google.com/github/JTenaSan/The-Gambler-s-Ruin-Problem-Project/blob/main/KellyCriterion.ipynb\" target=\"_parent\"><img src=\"https://colab.research.google.com/assets/colab-badge.svg\" alt=\"Open In Colab\"/></a>"
      ]
    },
    {
      "cell_type": "markdown",
      "source": [
        "# Kelly Criterion"
      ],
      "metadata": {
        "id": "XtBqSrQENwDd"
      }
    },
    {
      "cell_type": "code",
      "execution_count": null,
      "metadata": {
        "id": "Ft_qEWP8vxJb"
      },
      "outputs": [],
      "source": [
        "import numpy as np\n",
        "import pandas as pd"
      ]
    },
    {
      "cell_type": "code",
      "source": [
        "def kelly_criterion(int_money, goal, bet_size, p, trials):\n",
        "  ruin_count = 0\n",
        "  success_count = 0\n",
        "  all_trials = []\n",
        "\n",
        "  for i in range(trials):\n",
        "    money = int_money\n",
        "    trial_results = [money]\n",
        "    bet_roll = p - (1 - p)\n",
        "\n",
        "    while 0 < money < goal and p <= 0.5:\n",
        "      if money <= (goal/2):\n",
        "        if np.random.rand() < p:\n",
        "          money += money\n",
        "        else:\n",
        "          money -= money\n",
        "      elif money > (goal/2):\n",
        "        if np.random.rand() < p:\n",
        "          bet_size = goal - money\n",
        "          money += bet_size\n",
        "        else:\n",
        "          bet_size = goal - money\n",
        "          money -= bet_size\n",
        "\n",
        "      trial_results.append(money)\n",
        "\n",
        "    while 1 < money < goal and p > 0.5:\n",
        "      bet_amount = round(money * bet_roll, 2)\n",
        "      if np.random.rand() < p:\n",
        "        money += bet_amount\n",
        "      else:\n",
        "        money -= bet_amount\n",
        "\n",
        "      trial_results.append(round(money, 2))\n",
        "\n",
        "    all_trials.append(trial_results)\n",
        "\n",
        "    if money <= 1:\n",
        "      ruin_count += 1\n",
        "    else:\n",
        "      success_count += 1\n",
        "\n",
        "\n",
        "  ruin_prob = ruin_count / trials\n",
        "\n",
        "  max_len = max(len(trial) for trial in all_trials)\n",
        "  for trial in all_trials:\n",
        "      trial.extend([\" \"] * (max_len - len(trial)))\n",
        "\n",
        "    # Export to CSV\n",
        "  df = pd.DataFrame(all_trials).T\n",
        "  df.columns = [f'Trial_{i + 1}' for i in range(trials)]\n",
        "\n",
        "  df.to_csv('KC.csv', index=False)  # Export to CSV\n",
        "\n",
        "  print(\"\\nData exported to 'KC.csv'\")\n",
        "  return ruin_count, success_count, ruin_prob"
      ],
      "metadata": {
        "id": "t9XkyUqsN2wk"
      },
      "execution_count": null,
      "outputs": []
    },
    {
      "cell_type": "code",
      "source": [
        "trials = 100\n",
        "goal = 10"
      ],
      "metadata": {
        "id": "orPnrAg-Q-9T"
      },
      "execution_count": null,
      "outputs": []
    },
    {
      "cell_type": "code",
      "source": [
        "ruin, success, prob_ruin = kelly_criterion(3, goal, 1, 0.40, trials)\n",
        "print(f\"Total Successes: {success}, Total Ruins: {ruin}\")\n",
        "print(f\"Ruin Probability: {prob_ruin}\")"
      ],
      "metadata": {
        "id": "ea_7gKhp3NYI",
        "colab": {
          "base_uri": "https://localhost:8080/"
        },
        "outputId": "aefe88d8-cb55-4d2f-85dc-430771776d15"
      },
      "execution_count": null,
      "outputs": [
        {
          "output_type": "stream",
          "name": "stdout",
          "text": [
            "\n",
            "Data exported to 'KC.csv'\n",
            "Total Successes: 19, Total Ruins: 81\n",
            "Ruin Probability: 0.81\n"
          ]
        }
      ]
    },
    {
      "cell_type": "code",
      "source": [
        "ruin, success, prob_ruin = kelly_criterion(5, goal, 1, 0.40, trials)\n",
        "print(f\"Total Successes: {success}, Total Ruins: {ruin}\")\n",
        "print(f\"Ruin Probability: {prob_ruin}\")"
      ],
      "metadata": {
        "colab": {
          "base_uri": "https://localhost:8080/"
        },
        "id": "ASnpNhsaZX8w",
        "outputId": "1d2a2323-26c5-4221-e985-58a6b1121b46"
      },
      "execution_count": null,
      "outputs": [
        {
          "output_type": "stream",
          "name": "stdout",
          "text": [
            "\n",
            "Data exported to 'KC.csv'\n",
            "Total Successes: 41, Total Ruins: 59\n",
            "Ruin Probability: 0.59\n"
          ]
        }
      ]
    },
    {
      "cell_type": "code",
      "source": [
        "ruin, success, prob_ruin = kelly_criterion(7, goal, 1, 0.40, trials)\n",
        "print(f\"Total Successes: {success}, Total Ruins: {ruin}\")\n",
        "print(f\"Ruin Probability: {prob_ruin}\")"
      ],
      "metadata": {
        "id": "pk5yaj5W3RRj",
        "colab": {
          "base_uri": "https://localhost:8080/"
        },
        "outputId": "df205e3f-1a34-426b-b374-a94e7ba2b09a"
      },
      "execution_count": null,
      "outputs": [
        {
          "output_type": "stream",
          "name": "stdout",
          "text": [
            "\n",
            "Data exported to 'KC.csv'\n",
            "Total Successes: 62, Total Ruins: 38\n",
            "Ruin Probability: 0.38\n"
          ]
        }
      ]
    },
    {
      "cell_type": "code",
      "source": [
        "ruin, success, prob_ruin = kelly_criterion(3, goal, 1, 0.45, trials)\n",
        "print(f\"Total Successes: {success}, Total Ruins: {ruin}\")\n",
        "print(f\"Ruin Probability: {prob_ruin}\")"
      ],
      "metadata": {
        "colab": {
          "base_uri": "https://localhost:8080/"
        },
        "id": "AHIrc61lyz-9",
        "outputId": "5ec8b422-0389-4006-d34f-d4265c77797b"
      },
      "execution_count": null,
      "outputs": [
        {
          "output_type": "stream",
          "name": "stdout",
          "text": [
            "\n",
            "Data exported to 'KC.csv'\n",
            "Total Successes: 27, Total Ruins: 73\n",
            "Ruin Probability: 0.73\n"
          ]
        }
      ]
    },
    {
      "cell_type": "code",
      "source": [
        "ruin, success, prob_ruin = kelly_criterion(5, goal, 1, 0.45, trials)\n",
        "print(f\"Total Successes: {success}, Total Ruins: {ruin}\")\n",
        "print(f\"Ruin Probability: {prob_ruin}\")"
      ],
      "metadata": {
        "colab": {
          "base_uri": "https://localhost:8080/"
        },
        "id": "gha2P0K4UopF",
        "outputId": "2ca8fb43-3843-4fe0-886c-ebe3e7eede54"
      },
      "execution_count": null,
      "outputs": [
        {
          "output_type": "stream",
          "name": "stdout",
          "text": [
            "\n",
            "Data exported to 'KC.csv'\n",
            "Total Successes: 53, Total Ruins: 47\n",
            "Ruin Probability: 0.47\n"
          ]
        }
      ]
    },
    {
      "cell_type": "code",
      "source": [
        "ruin, success, prob_ruin = kelly_criterion(7, goal, 1, 0.45, trials)\n",
        "print(f\"Total Successes: {success}, Total Ruins: {ruin}\")\n",
        "print(f\"Ruin Probability: {prob_ruin}\")"
      ],
      "metadata": {
        "colab": {
          "base_uri": "https://localhost:8080/"
        },
        "id": "zZi6P7hTe9Cp",
        "outputId": "747f4688-866d-400d-f175-0306936a4f9b"
      },
      "execution_count": null,
      "outputs": [
        {
          "output_type": "stream",
          "name": "stdout",
          "text": [
            "\n",
            "Data exported to 'KC.csv'\n",
            "Total Successes: 66, Total Ruins: 34\n",
            "Ruin Probability: 0.34\n"
          ]
        }
      ]
    },
    {
      "cell_type": "code",
      "source": [
        "ruin, success, prob_ruin = kelly_criterion(3, goal, 1, 0.5, trials)\n",
        "print(f\"Total Successes: {success}, Total Ruins: {ruin}\")\n",
        "print(f\"Ruin Probability: {prob_ruin}\")"
      ],
      "metadata": {
        "colab": {
          "base_uri": "https://localhost:8080/"
        },
        "id": "FK4l-DoDfctQ",
        "outputId": "207eea01-82ad-40f5-efed-a5b203f6b2cc"
      },
      "execution_count": null,
      "outputs": [
        {
          "output_type": "stream",
          "name": "stdout",
          "text": [
            "\n",
            "Data exported to 'KC.csv'\n",
            "Total Successes: 28, Total Ruins: 72\n",
            "Ruin Probability: 0.72\n"
          ]
        }
      ]
    },
    {
      "cell_type": "code",
      "source": [
        "ruin, success, prob_ruin = kelly_criterion(5, goal, 1, 0.5, trials)\n",
        "print(f\"Total Successes: {success}, Total Ruins: {ruin}\")\n",
        "print(f\"Ruin Probability: {prob_ruin}\")"
      ],
      "metadata": {
        "id": "0rrE9Lz13coo",
        "colab": {
          "base_uri": "https://localhost:8080/"
        },
        "outputId": "d8b3ef2a-d3d4-468f-c9d6-9f783543fc7a"
      },
      "execution_count": null,
      "outputs": [
        {
          "output_type": "stream",
          "name": "stdout",
          "text": [
            "\n",
            "Data exported to 'KC.csv'\n",
            "Total Successes: 49, Total Ruins: 51\n",
            "Ruin Probability: 0.51\n"
          ]
        }
      ]
    },
    {
      "cell_type": "code",
      "source": [
        "ruin, success, prob_ruin = kelly_criterion(7, goal, 1, 0.5, trials)\n",
        "print(f\"Total Successes: {success}, Total Ruins: {ruin}\")\n",
        "print(f\"Ruin Probability: {prob_ruin}\")"
      ],
      "metadata": {
        "id": "0XxK--Co3dg1",
        "colab": {
          "base_uri": "https://localhost:8080/"
        },
        "outputId": "136ad577-db41-453b-cbac-ed77ac090b90"
      },
      "execution_count": null,
      "outputs": [
        {
          "output_type": "stream",
          "name": "stdout",
          "text": [
            "\n",
            "Data exported to 'KC.csv'\n",
            "Total Successes: 74, Total Ruins: 26\n",
            "Ruin Probability: 0.26\n"
          ]
        }
      ]
    },
    {
      "cell_type": "code",
      "source": [
        "ruin, success, prob_ruin = kelly_criterion(3, goal, 1, 0.55, trials)\n",
        "print(f\"Total Successes: {success}, Total Ruins: {ruin}\")\n",
        "print(f\"Ruin Probability: {prob_ruin}\")"
      ],
      "metadata": {
        "id": "HTHZi1TC3c8m",
        "colab": {
          "base_uri": "https://localhost:8080/"
        },
        "outputId": "c1ce6ef4-a024-4cb5-8657-d59cb3d96aa8"
      },
      "execution_count": null,
      "outputs": [
        {
          "output_type": "stream",
          "name": "stdout",
          "text": [
            "\n",
            "Data exported to 'KC.csv'\n",
            "Total Successes: 72, Total Ruins: 28\n",
            "Ruin Probability: 0.28\n"
          ]
        }
      ]
    },
    {
      "cell_type": "code",
      "source": [
        "ruin, success, prob_ruin = kelly_criterion(5, goal, 1, 0.55, trials)\n",
        "print(f\"Total Successes: {success}, Total Ruins: {ruin}\")\n",
        "print(f\"Ruin Probability: {prob_ruin}\")"
      ],
      "metadata": {
        "id": "nM8g-45Y3dOU",
        "colab": {
          "base_uri": "https://localhost:8080/"
        },
        "outputId": "628c529e-3831-4b0c-8838-26344e0f786f"
      },
      "execution_count": null,
      "outputs": [
        {
          "output_type": "stream",
          "name": "stdout",
          "text": [
            "\n",
            "Data exported to 'KC.csv'\n",
            "Total Successes: 88, Total Ruins: 12\n",
            "Ruin Probability: 0.12\n"
          ]
        }
      ]
    },
    {
      "cell_type": "code",
      "source": [
        "ruin, success, prob_ruin = kelly_criterion(7, goal, 1, 0.55, trials)\n",
        "print(f\"Total Successes: {success}, Total Ruins: {ruin}\")\n",
        "print(f\"Ruin Probability: {prob_ruin}\")"
      ],
      "metadata": {
        "id": "0wB9N-TI3rmI",
        "colab": {
          "base_uri": "https://localhost:8080/"
        },
        "outputId": "1042bc8a-cb63-49bf-c3a9-e32e37e385a4"
      },
      "execution_count": null,
      "outputs": [
        {
          "output_type": "stream",
          "name": "stdout",
          "text": [
            "\n",
            "Data exported to 'KC.csv'\n",
            "Total Successes: 97, Total Ruins: 3\n",
            "Ruin Probability: 0.03\n"
          ]
        }
      ]
    },
    {
      "cell_type": "code",
      "source": [
        "ruin, success, prob_ruin = kelly_criterion(3, goal, 1, 0.6, trials)\n",
        "print(f\"Total Successes: {success}, Total Ruins: {ruin}\")\n",
        "print(f\"Ruin Probability: {prob_ruin}\")"
      ],
      "metadata": {
        "id": "PcrDrktw3tpk",
        "colab": {
          "base_uri": "https://localhost:8080/"
        },
        "outputId": "9f524358-0c95-403b-c046-fe7a252b8142"
      },
      "execution_count": null,
      "outputs": [
        {
          "output_type": "stream",
          "name": "stdout",
          "text": [
            "\n",
            "Data exported to 'KC.csv'\n",
            "Total Successes: 67, Total Ruins: 33\n",
            "Ruin Probability: 0.33\n"
          ]
        }
      ]
    },
    {
      "cell_type": "code",
      "source": [
        "ruin, success, prob_ruin = kelly_criterion(5, goal, 1, 0.6, trials)\n",
        "print(f\"Total Successes: {success}, Total Ruins: {ruin}\")\n",
        "print(f\"Ruin Probability: {prob_ruin}\")"
      ],
      "metadata": {
        "id": "Ook2iH8O3t4a",
        "colab": {
          "base_uri": "https://localhost:8080/"
        },
        "outputId": "149bd9e1-116a-4601-ef8a-34d3b36f65d9"
      },
      "execution_count": null,
      "outputs": [
        {
          "output_type": "stream",
          "name": "stdout",
          "text": [
            "\n",
            "Data exported to 'KC.csv'\n",
            "Total Successes: 89, Total Ruins: 11\n",
            "Ruin Probability: 0.11\n"
          ]
        }
      ]
    },
    {
      "cell_type": "code",
      "source": [
        "ruin, success, prob_ruin = kelly_criterion(7, goal, 1, 0.6, trials)\n",
        "print(f\"Total Successes: {success}, Total Ruins: {ruin}\")\n",
        "print(f\"Ruin Probability: {prob_ruin}\")"
      ],
      "metadata": {
        "id": "-hhzK4JZ3uIh",
        "colab": {
          "base_uri": "https://localhost:8080/"
        },
        "outputId": "74722916-8c66-4fce-e384-5ae47baf051e"
      },
      "execution_count": null,
      "outputs": [
        {
          "output_type": "stream",
          "name": "stdout",
          "text": [
            "\n",
            "Data exported to 'KC.csv'\n",
            "Total Successes: 96, Total Ruins: 4\n",
            "Ruin Probability: 0.04\n"
          ]
        }
      ]
    }
  ]
}